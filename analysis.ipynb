{
 "cells": [
  {
   "cell_type": "code",
   "execution_count": 1,
   "metadata": {},
   "outputs": [
    {
     "name": "stderr",
     "output_type": "stream",
     "text": [
      "\u001b[32m\u001b[1m Activating\u001b[22m\u001b[39m environment at `~/Desktop/code/julia/iris/Project.toml`\n",
      "\u001b[32m\u001b[1m   Updating\u001b[22m\u001b[39m registry at `~/.julia/registries/General`\n"
     ]
    },
    {
     "name": "stdout",
     "output_type": "stream",
     "text": [
      "\u001b[?25l    "
     ]
    },
    {
     "name": "stderr",
     "output_type": "stream",
     "text": [
      "\u001b[32m\u001b[1m   Updating\u001b[22m\u001b[39m git-repo `https://github.com/JuliaRegistries/General.git`\n"
     ]
    },
    {
     "name": "stdout",
     "output_type": "stream",
     "text": [
      "\u001b[2K\u001b[?25h[1mFetching:\u001b[22m\u001b[39m [========================================>]  100.0 %     ]  84.5 %"
     ]
    },
    {
     "name": "stderr",
     "output_type": "stream",
     "text": [
      "\u001b[32m\u001b[1m  Resolving\u001b[22m\u001b[39m package versions...\n",
      "\u001b[32m\u001b[1mNo Changes\u001b[22m\u001b[39m to `~/Desktop/code/julia/iris/Project.toml`\n",
      "\u001b[32m\u001b[1mNo Changes\u001b[22m\u001b[39m to `~/Desktop/code/julia/iris/Manifest.toml`\n"
     ]
    }
   ],
   "source": [
    "using Pkg\n",
    "Pkg.activate(\".\")\n",
    "Pkg.add(readlines(\"requirements.txt\"))"
   ]
  },
  {
   "cell_type": "code",
   "execution_count": 2,
   "metadata": {},
   "outputs": [],
   "source": [
    "using GLM\n",
    "using JSON\n",
    "using Plots\n",
    "using Pipe\n",
    "using DataFrames\n",
    "using Statistics"
   ]
  },
  {
   "cell_type": "code",
   "execution_count": 3,
   "metadata": {},
   "outputs": [],
   "source": [
    "data = open(\"./data/iris.json\") do io\n",
    "    JSON.parse(read(io,String))\n",
    "end;"
   ]
  },
  {
   "cell_type": "code",
   "execution_count": 4,
   "metadata": {},
   "outputs": [
    {
     "data": {
      "text/plain": [
       "Set{String} with 5 elements:\n",
       "  \"Sepal.Width\"\n",
       "  \"Petal.Length\"\n",
       "  \"Petal.Width\"\n",
       "  \"Species\"\n",
       "  \"Sepal.Length\""
      ]
     },
     "execution_count": 4,
     "metadata": {},
     "output_type": "execute_result"
    }
   ],
   "source": [
    "columns = reduce(∩,keys.(data))"
   ]
  },
  {
   "cell_type": "code",
   "execution_count": 5,
   "metadata": {},
   "outputs": [
    {
     "data": {
      "text/html": [
       "<table class=\"data-frame\"><thead><tr><th></th><th>SepalWidth</th><th>PetalLength</th><th>PetalWidth</th><th>Species</th><th>SepalLength</th></tr><tr><th></th><th>Real</th><th>Real</th><th>Real</th><th>String</th><th>Real</th></tr></thead><tbody><p>5 rows × 5 columns</p><tr><th>1</th><td>3.5</td><td>1.4</td><td>0.2</td><td>setosa</td><td>5.1</td></tr><tr><th>2</th><td>3</td><td>1.4</td><td>0.2</td><td>setosa</td><td>4.9</td></tr><tr><th>3</th><td>3.2</td><td>1.3</td><td>0.2</td><td>setosa</td><td>4.7</td></tr><tr><th>4</th><td>3.1</td><td>1.5</td><td>0.2</td><td>setosa</td><td>4.6</td></tr><tr><th>5</th><td>3.6</td><td>1.4</td><td>0.2</td><td>setosa</td><td>5</td></tr></tbody></table>"
      ],
      "text/latex": [
       "\\begin{tabular}{r|ccccc}\n",
       "\t& SepalWidth & PetalLength & PetalWidth & Species & SepalLength\\\\\n",
       "\t\\hline\n",
       "\t& Real & Real & Real & String & Real\\\\\n",
       "\t\\hline\n",
       "\t1 & 3.5 & 1.4 & 0.2 & setosa & 5.1 \\\\\n",
       "\t2 & 3 & 1.4 & 0.2 & setosa & 4.9 \\\\\n",
       "\t3 & 3.2 & 1.3 & 0.2 & setosa & 4.7 \\\\\n",
       "\t4 & 3.1 & 1.5 & 0.2 & setosa & 4.6 \\\\\n",
       "\t5 & 3.6 & 1.4 & 0.2 & setosa & 5 \\\\\n",
       "\\end{tabular}\n"
      ],
      "text/plain": [
       "\u001b[1m5×5 DataFrame\u001b[0m\n",
       "\u001b[1m Row \u001b[0m│\u001b[1m SepalWidth \u001b[0m\u001b[1m PetalLength \u001b[0m\u001b[1m PetalWidth \u001b[0m\u001b[1m Species \u001b[0m\u001b[1m SepalLength \u001b[0m\n",
       "\u001b[1m     \u001b[0m│\u001b[90m Real       \u001b[0m\u001b[90m Real        \u001b[0m\u001b[90m Real       \u001b[0m\u001b[90m String  \u001b[0m\u001b[90m Real        \u001b[0m\n",
       "─────┼───────────────────────────────────────────────────────────\n",
       "   1 │        3.5          1.4         0.2  setosa           5.1\n",
       "   2 │          3          1.4         0.2  setosa           4.9\n",
       "   3 │        3.2          1.3         0.2  setosa           4.7\n",
       "   4 │        3.1          1.5         0.2  setosa           4.6\n",
       "   5 │        3.6          1.4         0.2  setosa             5"
      ]
     },
     "execution_count": 5,
     "metadata": {},
     "output_type": "execute_result"
    }
   ],
   "source": [
    "df = DataFrame((\n",
    "        Symbol(replace(c,\".\" => \"\")) => getindex.(data,c) \n",
    "        for c ∈ columns)...\n",
    ")\n",
    "first(df,5)"
   ]
  },
  {
   "cell_type": "code",
   "execution_count": 6,
   "metadata": {},
   "outputs": [
    {
     "data": {
      "text/html": [
       "<table class=\"data-frame\"><thead><tr><th></th><th>variable</th><th>mean</th><th>min</th><th>median</th><th>max</th><th>nmissing</th><th>eltype</th></tr><tr><th></th><th>Symbol</th><th>Union…</th><th>Any</th><th>Union…</th><th>Any</th><th>Int64</th><th>DataType</th></tr></thead><tbody><p>5 rows × 7 columns</p><tr><th>1</th><td>SepalWidth</td><td>3.05733</td><td>2.0</td><td>3.0</td><td>4.4</td><td>0</td><td>Real</td></tr><tr><th>2</th><td>PetalLength</td><td>3.758</td><td>1.0</td><td>4.35</td><td>6.9</td><td>0</td><td>Real</td></tr><tr><th>3</th><td>PetalWidth</td><td>1.19933</td><td>0.1</td><td>1.3</td><td>2.5</td><td>0</td><td>Real</td></tr><tr><th>4</th><td>Species</td><td></td><td>setosa</td><td></td><td>virginica</td><td>0</td><td>String</td></tr><tr><th>5</th><td>SepalLength</td><td>5.84333</td><td>4.3</td><td>5.8</td><td>7.9</td><td>0</td><td>Real</td></tr></tbody></table>"
      ],
      "text/latex": [
       "\\begin{tabular}{r|ccccccc}\n",
       "\t& variable & mean & min & median & max & nmissing & eltype\\\\\n",
       "\t\\hline\n",
       "\t& Symbol & Union… & Any & Union… & Any & Int64 & DataType\\\\\n",
       "\t\\hline\n",
       "\t1 & SepalWidth & 3.05733 & 2.0 & 3.0 & 4.4 & 0 & Real \\\\\n",
       "\t2 & PetalLength & 3.758 & 1.0 & 4.35 & 6.9 & 0 & Real \\\\\n",
       "\t3 & PetalWidth & 1.19933 & 0.1 & 1.3 & 2.5 & 0 & Real \\\\\n",
       "\t4 & Species &  & setosa &  & virginica & 0 & String \\\\\n",
       "\t5 & SepalLength & 5.84333 & 4.3 & 5.8 & 7.9 & 0 & Real \\\\\n",
       "\\end{tabular}\n"
      ],
      "text/plain": [
       "\u001b[1m5×7 DataFrame\u001b[0m\n",
       "\u001b[1m Row \u001b[0m│\u001b[1m variable    \u001b[0m\u001b[1m mean    \u001b[0m\u001b[1m min    \u001b[0m\u001b[1m median \u001b[0m\u001b[1m max       \u001b[0m\u001b[1m nmissing \u001b[0m\u001b[1m eltype   \u001b[0m\n",
       "\u001b[1m     \u001b[0m│\u001b[90m Symbol      \u001b[0m\u001b[90m Union…  \u001b[0m\u001b[90m Any    \u001b[0m\u001b[90m Union… \u001b[0m\u001b[90m Any       \u001b[0m\u001b[90m Int64    \u001b[0m\u001b[90m DataType \u001b[0m\n",
       "─────┼─────────────────────────────────────────────────────────────────────\n",
       "   1 │ SepalWidth   3.05733  2.0     3.0     4.4               0  Real\n",
       "   2 │ PetalLength  3.758    1.0     4.35    6.9               0  Real\n",
       "   3 │ PetalWidth   1.19933  0.1     1.3     2.5               0  Real\n",
       "   4 │ Species     \u001b[90m         \u001b[0m setosa \u001b[90m        \u001b[0m virginica         0  String\n",
       "   5 │ SepalLength  5.84333  4.3     5.8     7.9               0  Real"
      ]
     },
     "execution_count": 6,
     "metadata": {},
     "output_type": "execute_result"
    }
   ],
   "source": [
    "describe(df)"
   ]
  },
  {
   "cell_type": "code",
   "execution_count": 7,
   "metadata": {},
   "outputs": [
    {
     "data": {
      "text/html": [
       "<table class=\"data-frame\"><thead><tr><th></th><th>Species</th><th>count</th></tr><tr><th></th><th>String</th><th>Int64</th></tr></thead><tbody><p>3 rows × 2 columns</p><tr><th>1</th><td>setosa</td><td>50</td></tr><tr><th>2</th><td>versicolor</td><td>50</td></tr><tr><th>3</th><td>virginica</td><td>50</td></tr></tbody></table>"
      ],
      "text/latex": [
       "\\begin{tabular}{r|cc}\n",
       "\t& Species & count\\\\\n",
       "\t\\hline\n",
       "\t& String & Int64\\\\\n",
       "\t\\hline\n",
       "\t1 & setosa & 50 \\\\\n",
       "\t2 & versicolor & 50 \\\\\n",
       "\t3 & virginica & 50 \\\\\n",
       "\\end{tabular}\n"
      ],
      "text/plain": [
       "\u001b[1m3×2 DataFrame\u001b[0m\n",
       "\u001b[1m Row \u001b[0m│\u001b[1m Species    \u001b[0m\u001b[1m count \u001b[0m\n",
       "\u001b[1m     \u001b[0m│\u001b[90m String     \u001b[0m\u001b[90m Int64 \u001b[0m\n",
       "─────┼───────────────────\n",
       "   1 │ setosa         50\n",
       "   2 │ versicolor     50\n",
       "   3 │ virginica      50"
      ]
     },
     "execution_count": 7,
     "metadata": {},
     "output_type": "execute_result"
    }
   ],
   "source": [
    "@pipe groupby(df,:Species) |> combine(_,nrow => :count)"
   ]
  },
  {
   "cell_type": "code",
   "execution_count": 8,
   "metadata": {},
   "outputs": [
    {
     "data": {
      "text/html": [
       "<table class=\"data-frame\"><thead><tr><th></th><th>Species</th><th>PetalWidth_mean</th><th>PetalLength_mean</th><th>SepalWidth_mean</th><th>SepalLength_mean</th></tr><tr><th></th><th>String</th><th>Float64</th><th>Float64</th><th>Float64</th><th>Float64</th></tr></thead><tbody><p>3 rows × 5 columns</p><tr><th>1</th><td>setosa</td><td>0.246</td><td>1.462</td><td>3.428</td><td>5.006</td></tr><tr><th>2</th><td>versicolor</td><td>1.326</td><td>4.26</td><td>2.77</td><td>5.936</td></tr><tr><th>3</th><td>virginica</td><td>2.026</td><td>5.552</td><td>2.974</td><td>6.588</td></tr></tbody></table>"
      ],
      "text/latex": [
       "\\begin{tabular}{r|ccccc}\n",
       "\t& Species & PetalWidth\\_mean & PetalLength\\_mean & SepalWidth\\_mean & SepalLength\\_mean\\\\\n",
       "\t\\hline\n",
       "\t& String & Float64 & Float64 & Float64 & Float64\\\\\n",
       "\t\\hline\n",
       "\t1 & setosa & 0.246 & 1.462 & 3.428 & 5.006 \\\\\n",
       "\t2 & versicolor & 1.326 & 4.26 & 2.77 & 5.936 \\\\\n",
       "\t3 & virginica & 2.026 & 5.552 & 2.974 & 6.588 \\\\\n",
       "\\end{tabular}\n"
      ],
      "text/plain": [
       "\u001b[1m3×5 DataFrame\u001b[0m\n",
       "\u001b[1m Row \u001b[0m│\u001b[1m Species    \u001b[0m\u001b[1m PetalWidth_mean \u001b[0m\u001b[1m PetalLength_mean \u001b[0m\u001b[1m SepalWidth_mean \u001b[0m\u001b[1m SepalLe\u001b[0m ⋯\n",
       "\u001b[1m     \u001b[0m│\u001b[90m String     \u001b[0m\u001b[90m Float64         \u001b[0m\u001b[90m Float64          \u001b[0m\u001b[90m Float64         \u001b[0m\u001b[90m Float64\u001b[0m ⋯\n",
       "─────┼──────────────────────────────────────────────────────────────────────────\n",
       "   1 │ setosa                0.246             1.462            3.428          ⋯\n",
       "   2 │ versicolor            1.326             4.26             2.77\n",
       "   3 │ virginica             2.026             5.552            2.974\n",
       "\u001b[31m                                                                1 column omitted\u001b[0m"
      ]
     },
     "execution_count": 8,
     "metadata": {},
     "output_type": "execute_result"
    }
   ],
   "source": [
    "@pipe df |> \n",
    "    groupby(_,:Species) |> \n",
    "    combine(\n",
    "        _, \n",
    "        :PetalWidth => mean,\n",
    "        :PetalLength => mean,\n",
    "        :SepalWidth => mean,\n",
    "        :SepalLength => mean\n",
    "    )"
   ]
  },
  {
   "cell_type": "code",
   "execution_count": 40,
   "metadata": {},
   "outputs": [
    {
     "ename": "LoadError",
     "evalue": "Cannot convert Base.Generator{Base.Generator{Array{String,1},var\"#25#27\"},var\"#29#30\"} to series data for plotting",
     "output_type": "error",
     "traceback": [
      "Cannot convert Base.Generator{Base.Generator{Array{String,1},var\"#25#27\"},var\"#29#30\"} to series data for plotting",
      "",
      "Stacktrace:",
      " [1] error(::String) at ./error.jl:33",
      " [2] _prepare_series_data(::Base.Generator{Base.Generator{Array{String,1},var\"#25#27\"},var\"#29#30\"}) at /home/apoor/.julia/packages/RecipesPipeline/uPBKQ/src/series.jl:8",
      " [3] _series_data_vector(::Base.Generator{Base.Generator{Array{String,1},var\"#25#27\"},var\"#29#30\"}, ::Dict{Symbol,Any}) at /home/apoor/.julia/packages/RecipesPipeline/uPBKQ/src/series.jl:27",
      " [4] macro expansion at /home/apoor/.julia/packages/RecipesPipeline/uPBKQ/src/series.jl:145 [inlined]",
      " [5] apply_recipe(::AbstractDict{Symbol,Any}, ::Type{RecipesPipeline.SliceIt}, ::Any, ::Any, ::Any) at /home/apoor/.julia/packages/RecipesBase/92zOw/src/RecipesBase.jl:282",
      " [6] _process_userrecipes!(::Any, ::Any, ::Any) at /home/apoor/.julia/packages/RecipesPipeline/uPBKQ/src/user_recipe.jl:36",
      " [7] recipe_pipeline!(::Any, ::Any, ::Any) at /home/apoor/.julia/packages/RecipesPipeline/uPBKQ/src/RecipesPipeline.jl:70",
      " [8] _plot!(::Plots.Plot, ::Any, ::Any) at /home/apoor/.julia/packages/Plots/lmp2A/src/plot.jl:172",
      " [9] #plot#129 at /home/apoor/.julia/packages/Plots/lmp2A/src/plot.jl:58 [inlined]",
      " [10] plot(::Any) at /home/apoor/.julia/packages/Plots/lmp2A/src/plot.jl:52",
      " [11] top-level scope at In[40]:4",
      " [12] include_string(::Function, ::Module, ::String, ::String) at ./loading.jl:1091"
     ]
    }
   ],
   "source": []
  },
  {
   "cell_type": "code",
   "execution_count": null,
   "metadata": {},
   "outputs": [],
   "source": []
  },
  {
   "cell_type": "code",
   "execution_count": null,
   "metadata": {},
   "outputs": [],
   "source": []
  },
  {
   "cell_type": "code",
   "execution_count": null,
   "metadata": {},
   "outputs": [],
   "source": []
  },
  {
   "cell_type": "code",
   "execution_count": null,
   "metadata": {},
   "outputs": [],
   "source": []
  },
  {
   "cell_type": "code",
   "execution_count": null,
   "metadata": {},
   "outputs": [],
   "source": []
  }
 ],
 "metadata": {
  "kernelspec": {
   "display_name": "Julia 1.5.3",
   "language": "julia",
   "name": "julia-1.5"
  },
  "language_info": {
   "file_extension": ".jl",
   "mimetype": "application/julia",
   "name": "julia",
   "version": "1.5.3"
  }
 },
 "nbformat": 4,
 "nbformat_minor": 4
}
